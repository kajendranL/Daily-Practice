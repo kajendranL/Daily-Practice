{
  "nbformat": 4,
  "nbformat_minor": 0,
  "metadata": {
    "colab": {
      "name": "Untitled0.ipynb",
      "provenance": [],
      "authorship_tag": "ABX9TyPRjM/A0c9WlIe4Mlo3mqPJ",
      "include_colab_link": true
    },
    "kernelspec": {
      "name": "python3",
      "display_name": "Python 3"
    }
  },
  "cells": [
    {
      "cell_type": "markdown",
      "metadata": {
        "id": "view-in-github",
        "colab_type": "text"
      },
      "source": [
        "<a href=\"https://colab.research.google.com/github/kajendranL/Daily-Practice/blob/master/LPTHW.ipynb\" target=\"_parent\"><img src=\"https://colab.research.google.com/assets/colab-badge.svg\" alt=\"Open In Colab\"/></a>"
      ]
    },
    {
      "cell_type": "code",
      "metadata": {
        "id": "t7ezxNMKDIy9",
        "colab_type": "code",
        "colab": {
          "base_uri": "https://localhost:8080/",
          "height": 119
        },
        "outputId": "ce8ae243-3694-4e64-c331-9d98d7a0c9bf"
      },
      "source": [
        "cars = 100\n",
        "space_in_a_car = 4.0\n",
        "drivers = 30\n",
        "passengers =90\n",
        "cars_not_driven = cars-drivers\n",
        "cars_driven = drivers\n",
        "carpool_capacity = cars_driven*space_in_a_car\n",
        "average_passagngers_per_car = passengers/cars_driven\n",
        "\n",
        "print(\"There are\",cars, \"cars available\")\n",
        "print(\"There are only\",drivers,\"drivers available\")\n",
        "print(\"There will be\", cars_not_driven,\"empty cars available today\")\n",
        "print(\"We can transport\",carpool_capacity,\"people today\")\n",
        "print(\"We have\",passengers,\"to carpool today\")\n",
        "print(\"We need to put about\", average_passagngers_per_car,\"in each car\")\n"
      ],
      "execution_count": 3,
      "outputs": [
        {
          "output_type": "stream",
          "text": [
            "There are 100 cars available\n",
            "There are only 30 drivers available\n",
            "There will be 70 empty cars available today\n",
            "We can transport 120.0 people today\n",
            "We have 90 to carpool today\n",
            "We need to put about 3.0 in each car\n"
          ],
          "name": "stdout"
        }
      ]
    },
    {
      "cell_type": "markdown",
      "metadata": {
        "id": "-ZRO1RQrGH8q",
        "colab_type": "text"
      },
      "source": [
        "# EX 5\n"
      ]
    },
    {
      "cell_type": "code",
      "metadata": {
        "id": "345LZ2PXGL8D",
        "colab_type": "code",
        "colab": {
          "base_uri": "https://localhost:8080/",
          "height": 136
        },
        "outputId": "18f3305b-e73b-4a42-82b2-c14d59eb4702"
      },
      "source": [
        "my_name = \"Kajendran L\"\n",
        "my_age = 2020-1984\n",
        "my_eyes = \"Brown\"\n",
        "my_teeth = \"White\"\n",
        "my_hair = \"Black\"\n",
        "my_weight = 65 # KG\n",
        "my_height = 164 # feet\n",
        "\n",
        "print(f\"Let us talk about{my_name}.\")\n",
        "print(f\"he is {my_height}, feet tall.\")\n",
        "print(f\"he wighs about {my_weight}.\")\n",
        "print(\"That is not actually that heavy\")\n",
        "print(f\"He is got {my_eyes} eyes and {my_hair} hair.\")\n",
        "print(f\"his teeth are {my_teeth}.\")\n",
        "\n",
        "total = my_age +my_height+my_weight\n",
        "print(f\"If i add {my_age}, {my_height}, and {my_weight} I get{total}.\")\n",
        "\n",
        "\n",
        "\n"
      ],
      "execution_count": 4,
      "outputs": [
        {
          "output_type": "stream",
          "text": [
            "Let us talk aboutKajendran L.\n",
            "he is 164, feet tall.\n",
            "he wighs about 65.\n",
            "That is not actually that heavy\n",
            "He is got Brown eyes and Black hair.\n",
            "his teeth are White.\n",
            "If i add 36, 164, and 65 I get265.\n"
          ],
          "name": "stdout"
        }
      ]
    },
    {
      "cell_type": "code",
      "metadata": {
        "id": "bAx8dJaEGHjr",
        "colab_type": "code",
        "colab": {}
      },
      "source": [
        ""
      ],
      "execution_count": 0,
      "outputs": []
    }
  ]
}