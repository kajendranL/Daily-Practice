{
  "nbformat": 4,
  "nbformat_minor": 0,
  "metadata": {
    "colab": {
      "name": "Untitled0.ipynb",
      "provenance": [],
      "authorship_tag": "ABX9TyOeYxv8l7wdnI/Qp1L5UVGr",
      "include_colab_link": true
    },
    "kernelspec": {
      "name": "python3",
      "display_name": "Python 3"
    }
  },
  "cells": [
    {
      "cell_type": "markdown",
      "metadata": {
        "id": "view-in-github",
        "colab_type": "text"
      },
      "source": [
        "<a href=\"https://colab.research.google.com/github/kajendranL/Daily-Practice/blob/master/LPTHW.ipynb\" target=\"_parent\"><img src=\"https://colab.research.google.com/assets/colab-badge.svg\" alt=\"Open In Colab\"/></a>"
      ]
    },
    {
      "cell_type": "code",
      "metadata": {
        "id": "t7ezxNMKDIy9",
        "colab_type": "code",
        "colab": {
          "base_uri": "https://localhost:8080/",
          "height": 119
        },
        "outputId": "103271c7-438c-43a5-d651-95ceea7e04c1"
      },
      "source": [
        "cars = 100\n",
        "space_in_a_car = 4.0\n",
        "drivers = 30\n",
        "passengers =90\n",
        "cars_not_driven = cars-drivers\n",
        "cars_driven = drivers\n",
        "carpool_capacity = cars_driven*space_in_a_car\n",
        "average_passagngers_per_car = passengers/cars_driven\n",
        "\n",
        "print(\"There are\",cars, \"cars available\")\n",
        "print(\"There are only\",drivers,\"drivers available\")\n",
        "print(\"There will be\", cars_not_driven,\"empty cars available today\")\n",
        "print(\"We can transport\",carpool_capacity,\"people today\")\n",
        "print(\"We have\",passengers,\"to carpool today\")\n",
        "print(\"We need to put about\", average_passagngers_per_car,\"in each car\")\n"
      ],
      "execution_count": 2,
      "outputs": [
        {
          "output_type": "stream",
          "text": [
            "There are 100 cars available\n",
            "There are only 30 drivers available\n",
            "There will be 70 empty cars available today\n",
            "We can transport 120.0 people today\n",
            "We have 90 to carpool today\n",
            "We need to put about 3.0 in each car\n"
          ],
          "name": "stdout"
        }
      ]
    }
  ]
}