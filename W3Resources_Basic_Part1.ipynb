{
  "nbformat": 4,
  "nbformat_minor": 0,
  "metadata": {
    "colab": {
      "name": "W3Resources_Basic_Part1.ipynb",
      "provenance": [],
      "collapsed_sections": [],
      "include_colab_link": true
    },
    "kernelspec": {
      "name": "python3",
      "display_name": "Python 3"
    },
    "accelerator": "GPU"
  },
  "cells": [
    {
      "cell_type": "markdown",
      "metadata": {
        "id": "view-in-github",
        "colab_type": "text"
      },
      "source": [
        "<a href=\"https://colab.research.google.com/github/kajendranL/Daily-Practice/blob/master/W3Resources_Basic_Part1.ipynb\" target=\"_parent\"><img src=\"https://colab.research.google.com/assets/colab-badge.svg\" alt=\"Open In Colab\"/></a>"
      ]
    },
    {
      "cell_type": "markdown",
      "metadata": {
        "id": "_mod5QYUR3B_",
        "colab_type": "text"
      },
      "source": [
        "# Python basic (Part -I) [150 exercises with solution]\n"
      ]
    },
    {
      "cell_type": "markdown",
      "metadata": {
        "id": "Fhpi6OAmSj1o",
        "colab_type": "text"
      },
      "source": [
        "#1. Write a Python program to print the following string in a specific format (see the output). Go to the editor\n",
        "Sample String : \"Twinkle, twinkle, little star, How I wonder what you are! Up above the world so high, Like a diamond in the sky. Twinkle, twinkle, little star, How I wonder what you are\" Output :\n",
        "\n",
        "Twinkle, twinkle, little star,\n",
        "\tHow I wonder what you are! \n",
        "\t\tUp above the world so high,   \t\t\n",
        "\t\tLike a diamond in the sky. \n",
        "Twinkle, twinkle, little star, \n",
        "\tHow I wonder what you are"
      ]
    },
    {
      "cell_type": "code",
      "metadata": {
        "id": "CeLueBpwRTvv",
        "colab_type": "code",
        "colab": {
          "base_uri": "https://localhost:8080/",
          "height": 118
        },
        "outputId": "d570f151-d690-44e0-8bc4-46f9e9c65b1f"
      },
      "source": [
        "print(\"Twinke, twinkle, little star, \\n\\tHow I wonder What you are! \\n\\t\\tUp above the world so high, \\n\\t\\tLike a diamond in the sky. \\nTwinkle,twinkle,little star,\\n\\tHow i wonder whar you are\")"
      ],
      "execution_count": 2,
      "outputs": [
        {
          "output_type": "stream",
          "text": [
            "Twinke, twinkle, little star, \n",
            "\tHow I wonder What you are! \n",
            "\t\tUp above the world so high, \n",
            "\t\tLike a diamond in the sky. \n",
            "Twinkle,twinkle,little star,\n",
            "\tHow i wonder whar you are\n"
          ],
          "name": "stdout"
        }
      ]
    },
    {
      "cell_type": "markdown",
      "metadata": {
        "id": "Bl1rAsJdTWV0",
        "colab_type": "text"
      },
      "source": [
        "#2.Write a Python program to get the Python version you are using"
      ]
    },
    {
      "cell_type": "code",
      "metadata": {
        "id": "VkGL2GBsTWGN",
        "colab_type": "code",
        "colab": {
          "base_uri": "https://localhost:8080/",
          "height": 67
        },
        "outputId": "b217cd19-44fc-428c-c100-9c74fed0aebf"
      },
      "source": [
        "import sys\n",
        "print(\"Python version\", sys.version)\n",
        "print(\"Python version info\", sys.version_info)"
      ],
      "execution_count": 4,
      "outputs": [
        {
          "output_type": "stream",
          "text": [
            "Python version 3.6.8 (default, Jan 14 2019, 11:02:34) \n",
            "[GCC 8.0.1 20180414 (experimental) [trunk revision 259383]]\n",
            "Python version info sys.version_info(major=3, minor=6, micro=8, releaselevel='final', serial=0)\n"
          ],
          "name": "stdout"
        }
      ]
    },
    {
      "cell_type": "markdown",
      "metadata": {
        "id": "b7vaBqw7T-Xs",
        "colab_type": "text"
      },
      "source": [
        "# 3. Write a Python program to display the current date and time.\n",
        "Sample Output :\n",
        "Current date and time :\n",
        "2014-07-05 14:34:14"
      ]
    },
    {
      "cell_type": "code",
      "metadata": {
        "id": "nHk7mkxqTImc",
        "colab_type": "code",
        "colab": {
          "base_uri": "https://localhost:8080/",
          "height": 50
        },
        "outputId": "2e5b26be-ded0-4afc-ac4e-a025eeccda6b"
      },
      "source": [
        "import datetime\n",
        "time = datetime.datetime.now()\n",
        "print(\"Current date and time:\" ,time)\n",
        "print(time.strftime(\"%y-%m-%d %H:%M:%S\"))"
      ],
      "execution_count": 9,
      "outputs": [
        {
          "output_type": "stream",
          "text": [
            "Current date and time: 2019-10-13 13:34:54.242968\n",
            "19-10-13 13:34:54\n"
          ],
          "name": "stdout"
        }
      ]
    },
    {
      "cell_type": "markdown",
      "metadata": {
        "id": "07dpUE6pVNH-",
        "colab_type": "text"
      },
      "source": [
        "# 4. Write a Python program which accepts the radius of a circle from the user and compute the area. \n",
        "Sample Output :\n",
        "r = 1.1\n",
        "Area = 3.8013271108436504\n",
        "\n",
        "πr2. "
      ]
    },
    {
      "cell_type": "code",
      "metadata": {
        "id": "SeeyHerVUJvI",
        "colab_type": "code",
        "colab": {
          "base_uri": "https://localhost:8080/",
          "height": 50
        },
        "outputId": "2e02d2a3-7e9e-4aa1-b620-ff769074e695"
      },
      "source": [
        "from math import pi\n",
        "r = float(input(\"Enter the radius of the circle\"))\n",
        "Circle = (pi*r**2)\n",
        "\n",
        "print(\"The area of the circle with the radius,\",r , \"is:\", Circle)"
      ],
      "execution_count": 11,
      "outputs": [
        {
          "output_type": "stream",
          "text": [
            "Enter the radius of the circle3.5\n",
            "The area of the circle with the radius, 3.5 is: 38.48451000647496\n"
          ],
          "name": "stdout"
        }
      ]
    },
    {
      "cell_type": "markdown",
      "metadata": {
        "id": "fz6H9colWupQ",
        "colab_type": "text"
      },
      "source": [
        "# 5. Write a Python program which accepts the user's first and last name and print them in reverse order with a space between them"
      ]
    },
    {
      "cell_type": "code",
      "metadata": {
        "id": "JMLQKvcZWYcJ",
        "colab_type": "code",
        "colab": {
          "base_uri": "https://localhost:8080/",
          "height": 67
        },
        "outputId": "efc14ed3-46fa-4ee5-d9ef-46aea4d8a926"
      },
      "source": [
        "first = input(\"What is your first name?: \")\n",
        "last = input(\"What is your last name?: \")\n",
        "print(last +\" \"+  first)"
      ],
      "execution_count": 14,
      "outputs": [
        {
          "output_type": "stream",
          "text": [
            "What is your first name?: Joseph\n",
            "What is your last name?: Epifano\n",
            "Epifano Joseph\n"
          ],
          "name": "stdout"
        }
      ]
    },
    {
      "cell_type": "markdown",
      "metadata": {
        "id": "ouyYwczeXymC",
        "colab_type": "text"
      },
      "source": [
        "# 6.Write a Python program which accepts a sequence of comma-separated numbers from user and generate a list and a tuple with those numbers. "
      ]
    },
    {
      "cell_type": "code",
      "metadata": {
        "id": "Yv1BM7JEXMBn",
        "colab_type": "code",
        "colab": {
          "base_uri": "https://localhost:8080/",
          "height": 67
        },
        "outputId": "c80010e7-1e03-4644-b8dd-4c330941c2ec"
      },
      "source": [
        "csn = input('Enter comma separated numbers: ')\n",
        "list = csn.split(',')\n",
        "\n",
        "print(list)\n",
        "print(tuple(list))"
      ],
      "execution_count": 21,
      "outputs": [
        {
          "output_type": "stream",
          "text": [
            "Enter comma separated numbers: 15 48 96 35 \n",
            "['15 48 96 35 ']\n",
            "('15 48 96 35 ',)\n"
          ],
          "name": "stdout"
        }
      ]
    },
    {
      "cell_type": "markdown",
      "metadata": {
        "id": "EZaRNN3IZdvh",
        "colab_type": "text"
      },
      "source": [
        "# 7. Write a Python program to accept a filename from the user and print the extension of that.\n",
        "Sample filename : abc.java\n",
        "Output : java"
      ]
    },
    {
      "cell_type": "code",
      "metadata": {
        "id": "g5Ke3VBqYK1D",
        "colab_type": "code",
        "colab": {
          "base_uri": "https://localhost:8080/",
          "height": 50
        },
        "outputId": "6ea61eae-2143-48a7-f41f-3de8504965b1"
      },
      "source": [
        "fname1 = input(\"What is the name of the file? \")\n",
        "\n",
        "extname = fname1.split('.')\n",
        "\n",
        "print(\"The extension name is: \",extname[-1])\n"
      ],
      "execution_count": 23,
      "outputs": [
        {
          "output_type": "stream",
          "text": [
            "What is the name of the file? abc.csv\n",
            "csv\n"
          ],
          "name": "stdout"
        }
      ]
    },
    {
      "cell_type": "markdown",
      "metadata": {
        "id": "wDF82TlkbCuA",
        "colab_type": "text"
      },
      "source": [
        ""
      ]
    },
    {
      "cell_type": "markdown",
      "metadata": {
        "id": "ItIjLeZ_bA2S",
        "colab_type": "text"
      },
      "source": [
        "# 8. Write a Python program to display the first and last colors from the following list.\n",
        "color_list = [\"Red\",\"Green\",\"White\" ,\"Black\"]"
      ]
    },
    {
      "cell_type": "code",
      "metadata": {
        "id": "Ce8GW4Gtad11",
        "colab_type": "code",
        "colab": {
          "base_uri": "https://localhost:8080/",
          "height": 34
        },
        "outputId": "330988d8-6db6-43cc-8cd0-082a4cdfefdd"
      },
      "source": [
        "color_list = [\"Red\",\"Green\",\"White\" ,\"Black\"]\n",
        "\n",
        "print(color_list[0],color_list[-1])"
      ],
      "execution_count": 24,
      "outputs": [
        {
          "output_type": "stream",
          "text": [
            "Red Black\n"
          ],
          "name": "stdout"
        }
      ]
    },
    {
      "cell_type": "markdown",
      "metadata": {
        "id": "S90bHxX8bc2G",
        "colab_type": "text"
      },
      "source": [
        "# 9. Write a Python program to display the examination schedule. (extract the date from exam_st_date).\n",
        "\n",
        "exam_st_date = (11, 12, 2014)\n",
        "Sample Output : The examination will start from : 11 / 12 / 2014"
      ]
    },
    {
      "cell_type": "code",
      "metadata": {
        "id": "qEHNz36ubUMC",
        "colab_type": "code",
        "colab": {
          "base_uri": "https://localhost:8080/",
          "height": 34
        },
        "outputId": "8152a55b-ef93-4d7a-f919-5ddad548a6ed"
      },
      "source": [
        "exam_st_date = (11, 12, 2014)\n",
        "\n",
        "print(\"The exam will start from %i / %i / %i \"%exam_st_date)\n"
      ],
      "execution_count": 33,
      "outputs": [
        {
          "output_type": "stream",
          "text": [
            "The exam will start from 11 / 12 / 2014 \n"
          ],
          "name": "stdout"
        }
      ]
    },
    {
      "cell_type": "markdown",
      "metadata": {
        "id": "BZReiRrJercl",
        "colab_type": "text"
      },
      "source": [
        "# 10. Write a Python program that accepts an integer (n) and computes the value of n+nn+nnn. \n",
        "Sample value of n is 5\n",
        "Expected Result : 615"
      ]
    },
    {
      "cell_type": "code",
      "metadata": {
        "id": "Fwu5xvXcb7dP",
        "colab_type": "code",
        "colab": {
          "base_uri": "https://localhost:8080/",
          "height": 50
        },
        "outputId": "bbe05a5b-7cf8-4cac-b409-0a67355f232d"
      },
      "source": [
        "n = int(input(\"Enter a number:\"))\n",
        "\n",
        "n1 = int(\"%s\" %(n))\n",
        "n2 = int(\"%s%s\"%(n,n))\n",
        "n3 = int('%s%s%s'%(n,n,n))\n",
        "\n",
        "print(n1+n2+n3)"
      ],
      "execution_count": 4,
      "outputs": [
        {
          "output_type": "stream",
          "text": [
            "Enter a number:5\n",
            "615\n"
          ],
          "name": "stdout"
        }
      ]
    },
    {
      "cell_type": "markdown",
      "metadata": {
        "id": "ThleVd1kpVW1",
        "colab_type": "text"
      },
      "source": [
        "# 11. Write a Python program to print the documents (syntax, description etc.) of Python built-in function(s)."
      ]
    },
    {
      "cell_type": "code",
      "metadata": {
        "id": "CjrRCCjufAms",
        "colab_type": "code",
        "colab": {
          "base_uri": "https://localhost:8080/",
          "height": 34
        },
        "outputId": "128aa2e9-1c5d-4c0b-c599-573f5e7eb5c8"
      },
      "source": [
        "print(abs.__doc__)"
      ],
      "execution_count": 9,
      "outputs": [
        {
          "output_type": "stream",
          "text": [
            "Return the absolute value of the argument.\n"
          ],
          "name": "stdout"
        }
      ]
    },
    {
      "cell_type": "markdown",
      "metadata": {
        "id": "8q7pu-zcqf5f",
        "colab_type": "text"
      },
      "source": [
        "# 12. Write a Python program to print the calendar of a given month and year.\n",
        "Note : Use 'calendar' module.\n"
      ]
    },
    {
      "cell_type": "code",
      "metadata": {
        "id": "uJEH-Lgjpdyb",
        "colab_type": "code",
        "colab": {
          "base_uri": "https://localhost:8080/",
          "height": 185
        },
        "outputId": "cf752dee-63d3-4614-d618-6e315a1dd8f1"
      },
      "source": [
        "import calendar\n",
        "y = int(input(\"The number of year \"))\n",
        "m = int(input(\"The number of the month \"))\n",
        "\n",
        "print(calendar.month(y,m))"
      ],
      "execution_count": 17,
      "outputs": [
        {
          "output_type": "stream",
          "text": [
            "The number of year 2020\n",
            "The number of the month 4\n",
            "     April 2020\n",
            "Mo Tu We Th Fr Sa Su\n",
            "       1  2  3  4  5\n",
            " 6  7  8  9 10 11 12\n",
            "13 14 15 16 17 18 19\n",
            "20 21 22 23 24 25 26\n",
            "27 28 29 30\n",
            "\n"
          ],
          "name": "stdout"
        }
      ]
    },
    {
      "cell_type": "markdown",
      "metadata": {
        "id": "qIU4HdW9sDsQ",
        "colab_type": "text"
      },
      "source": [
        "# 13. Write a Python program to print the following here document.\n"
      ]
    },
    {
      "cell_type": "code",
      "metadata": {
        "id": "Vmpf_D7gqogD",
        "colab_type": "code",
        "colab": {
          "base_uri": "https://localhost:8080/",
          "height": 84
        },
        "outputId": "64f511c4-aa48-4fe7-e19f-22d3cee9f111"
      },
      "source": [
        "print('''a string that you \"don't\" have to escape\n",
        "This\n",
        "is a ....... multi-line\n",
        "heredoc string --------> example''')"
      ],
      "execution_count": 18,
      "outputs": [
        {
          "output_type": "stream",
          "text": [
            "a string that you \"don't\" have to escape\n",
            "This\n",
            "is a ....... multi-line\n",
            "heredoc string --------> example\n"
          ],
          "name": "stdout"
        }
      ]
    },
    {
      "cell_type": "markdown",
      "metadata": {
        "id": "xGwg8OlHsT8Z",
        "colab_type": "text"
      },
      "source": [
        "# 14. Write a Python program to calculate number of days between two dates"
      ]
    },
    {
      "cell_type": "code",
      "metadata": {
        "id": "4ODd_SflsLCK",
        "colab_type": "code",
        "colab": {
          "base_uri": "https://localhost:8080/",
          "height": 34
        },
        "outputId": "f65258f8-680b-4ba6-a480-f3a2b12d84da"
      },
      "source": [
        "from datetime import date\n",
        "\n",
        "fdate = date(2019, 7, 14)\n",
        "ldate = date(2019, 10, 13)\n",
        "\n",
        "print(\"The difference between number of days:\", (ldate - fdate).days)"
      ],
      "execution_count": 21,
      "outputs": [
        {
          "output_type": "stream",
          "text": [
            "The difference between number of days: 91\n"
          ],
          "name": "stdout"
        }
      ]
    },
    {
      "cell_type": "markdown",
      "metadata": {
        "id": "E1_zm2KPt8Rv",
        "colab_type": "text"
      },
      "source": [
        "# Write a Python program to get the volume of a sphere with radius 6."
      ]
    },
    {
      "cell_type": "code",
      "metadata": {
        "id": "_dw1gJXCsozN",
        "colab_type": "code",
        "colab": {
          "base_uri": "https://localhost:8080/",
          "height": 34
        },
        "outputId": "26d19bae-df0e-4617-beef-ab812552c0e0"
      },
      "source": [
        "from math import pi\n",
        "\n",
        "\n",
        "rad = 6\n",
        "\n",
        "formu = 4/3*pi*rad*rad*rad \n",
        "\n",
        "print(\"The volume of the sphere is: \", formu)\n"
      ],
      "execution_count": 23,
      "outputs": [
        {
          "output_type": "stream",
          "text": [
            "The volume of the sphere is:  904.7786842338604\n"
          ],
          "name": "stdout"
        }
      ]
    },
    {
      "cell_type": "markdown",
      "metadata": {
        "id": "nwPIcVnZwL5w",
        "colab_type": "text"
      },
      "source": [
        "# 16. Write a Python program to get the difference between a given number and 17, if the number is greater than 17 return double the absolute difference."
      ]
    },
    {
      "cell_type": "code",
      "metadata": {
        "id": "0tT9imROvEjp",
        "colab_type": "code",
        "colab": {
          "base_uri": "https://localhost:8080/",
          "height": 50
        },
        "outputId": "55672e7d-6f07-4d4e-8949-609cfcd6306f"
      },
      "source": [
        "def gname(n):\n",
        "  if n <= 17:\n",
        "    return n-17\n",
        "  else:\n",
        "    return (n-17)*2\n",
        "\n",
        "n= int(input(\"Enter a number: \"))\n",
        "\n",
        "gname(n)\n"
      ],
      "execution_count": 34,
      "outputs": [
        {
          "output_type": "stream",
          "text": [
            "Enter a number: 14\n"
          ],
          "name": "stdout"
        },
        {
          "output_type": "execute_result",
          "data": {
            "text/plain": [
              "-3"
            ]
          },
          "metadata": {
            "tags": []
          },
          "execution_count": 34
        }
      ]
    },
    {
      "cell_type": "markdown",
      "metadata": {
        "id": "17l9tO6VzA7k",
        "colab_type": "text"
      },
      "source": [
        "# 17. Write a Python program to test whether a number is within 100 of 1000 or 2000."
      ]
    },
    {
      "cell_type": "code",
      "metadata": {
        "id": "ZmMs4o5YxAwh",
        "colab_type": "code",
        "colab": {
          "base_uri": "https://localhost:8080/",
          "height": 67
        },
        "outputId": "42ee9284-24d2-4194-a48c-f7f6aeee7c51"
      },
      "source": [
        "def near_thousand(n):\n",
        "\n",
        "  return ((abs(1000-n)<=100)or(abs(2000-n)<=100))\n",
        "\n",
        "\n",
        "print(near_thousand(2000))\n",
        "print(near_thousand(600))\n",
        "print(near_thousand(1000))"
      ],
      "execution_count": 40,
      "outputs": [
        {
          "output_type": "stream",
          "text": [
            "True\n",
            "False\n",
            "True\n"
          ],
          "name": "stdout"
        }
      ]
    },
    {
      "cell_type": "code",
      "metadata": {
        "id": "JzIwHFetzy6M",
        "colab_type": "code",
        "colab": {}
      },
      "source": [
        ""
      ],
      "execution_count": 0,
      "outputs": []
    },
    {
      "cell_type": "markdown",
      "metadata": {
        "id": "S5Y6Y6Z70Vlp",
        "colab_type": "text"
      },
      "source": [
        "# 18. Write a Python program to calculate the sum of three given numbers, if the values are equal then return three times of their sum."
      ]
    },
    {
      "cell_type": "code",
      "metadata": {
        "id": "zzT1IfGQ0W43",
        "colab_type": "code",
        "colab": {
          "base_uri": "https://localhost:8080/",
          "height": 50
        },
        "outputId": "d2f0b543-19e5-42b6-946c-f1c14e8e68ed"
      },
      "source": [
        "def three_num(a,b,c):\n",
        "  sum  = a+b+c\n",
        "\n",
        "  if a==b==c:\n",
        "    sum = sum*3  \n",
        "  return sum\n",
        "\n",
        "\n",
        "print(three_num(1,2,3))\n",
        "print(three_num(5,5,5))\n",
        "\n"
      ],
      "execution_count": 54,
      "outputs": [
        {
          "output_type": "stream",
          "text": [
            "6\n",
            "45\n"
          ],
          "name": "stdout"
        }
      ]
    },
    {
      "cell_type": "markdown",
      "metadata": {
        "id": "0Pwja45o3bEc",
        "colab_type": "text"
      },
      "source": [
        "# 19. Write a Python program to get a new string from a given string where \"Is\" has been added to the front. If the given string already begins with \"Is\" then return the string unchanged."
      ]
    },
    {
      "cell_type": "code",
      "metadata": {
        "id": "iasQXu8b1C6X",
        "colab_type": "code",
        "colab": {
          "base_uri": "https://localhost:8080/",
          "height": 84
        },
        "outputId": "f79fa81e-ac8d-4062-b0ba-9d25bc302f09"
      },
      "source": [
        "def isstring(str):\n",
        "  if str.startswith('Is'):\n",
        "    return str\n",
        "  else:\n",
        "    return 'Is' + ' '+ str \n",
        "\n",
        "print(isstring(\"Is empty\"))\n",
        "print(isstring(\"Python is\"))\n",
        "print(isstring(\"Is Yazhini\"))\n",
        "print(isstring(\"Epifano\"))\n",
        "\n"
      ],
      "execution_count": 58,
      "outputs": [
        {
          "output_type": "stream",
          "text": [
            "Is empty\n",
            "Is Python is\n",
            "Is Yazhini\n",
            "Is Epifano\n"
          ],
          "name": "stdout"
        }
      ]
    },
    {
      "cell_type": "markdown",
      "metadata": {
        "id": "JOMGgIHQ5G26",
        "colab_type": "text"
      },
      "source": [
        "# 20. Write a Python program to get a string which is n (non-negative integer) copies of a given string. "
      ]
    },
    {
      "cell_type": "code",
      "metadata": {
        "id": "4a7GP_KW4oWU",
        "colab_type": "code",
        "colab": {
          "base_uri": "https://localhost:8080/",
          "height": 34
        },
        "outputId": "bcd824ea-e92a-4e90-8f2d-28977a49c30f"
      },
      "source": [
        "def str_copy(str,n):\n",
        "  return str*n\n",
        "\n",
        "print(str_copy(\"test\",3))"
      ],
      "execution_count": 60,
      "outputs": [
        {
          "output_type": "stream",
          "text": [
            "testtesttest\n"
          ],
          "name": "stdout"
        }
      ]
    },
    {
      "cell_type": "code",
      "metadata": {
        "id": "JwKxY9vT5sNg",
        "colab_type": "code",
        "colab": {}
      },
      "source": [
        ""
      ],
      "execution_count": 0,
      "outputs": []
    },
    {
      "cell_type": "markdown",
      "metadata": {
        "id": "BCYseql66MvV",
        "colab_type": "text"
      },
      "source": [
        "# 21. Write a Python program to find whether a given number (accept from the user) is even or odd, print out an appropriate message to the user."
      ]
    },
    {
      "cell_type": "code",
      "metadata": {
        "id": "T8NOjcWh6Nxd",
        "colab_type": "code",
        "colab": {
          "base_uri": "https://localhost:8080/",
          "height": 67
        },
        "outputId": "04e74a94-4120-4118-d834-427db29bb4e4"
      },
      "source": [
        "def accept_num(n):\n",
        "  Even = []\n",
        "  Odd = []\n",
        "  for i in range(n):\n",
        "\n",
        "    if i % 2 ==0:\n",
        "      Even.append(i)\n",
        "    else:\n",
        "      Odd.append(i)\n",
        "\n",
        "      \n",
        "  print(\"Even numbers are \", Even)\n",
        "  print(\"The Odd numbers are :\",Odd)\n",
        "\n",
        "\n",
        "y = int(input(\"Enter a number of your choice: \"))\n",
        "accept_num(y)"
      ],
      "execution_count": 69,
      "outputs": [
        {
          "output_type": "stream",
          "text": [
            "Enter a number of your choice: 10\n",
            "Even numbers are  [0, 2, 4, 6, 8]\n",
            "The Odd numbers are : [1, 3, 5, 7, 9]\n"
          ],
          "name": "stdout"
        }
      ]
    },
    {
      "cell_type": "markdown",
      "metadata": {
        "id": "PJFAHy8Q9aOQ",
        "colab_type": "text"
      },
      "source": [
        "# 22. Write a Python program to count the number 4 in a given list."
      ]
    },
    {
      "cell_type": "code",
      "metadata": {
        "id": "28VWv-ut63cM",
        "colab_type": "code",
        "colab": {}
      },
      "source": [
        ""
      ],
      "execution_count": 0,
      "outputs": []
    }
  ]
}